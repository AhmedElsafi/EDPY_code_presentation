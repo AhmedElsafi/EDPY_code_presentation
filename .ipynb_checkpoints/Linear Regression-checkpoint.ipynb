{
 "cells": [
  {
   "cell_type": "markdown",
   "id": "544c4752",
   "metadata": {},
   "source": [
    "# Overview\n",
    "\n",
    "### 1. Dataset\n",
    "\n",
    "This dataset was collected from the Global Health Observatory (GHO) data repository under World Health Organization (WHO) from year 2000-2015. More information of the dataset can be found at:https://www.kaggle.com/datasets/kumarajarshi/life-expectancy-who\n",
    "\n",
    "Our aim is predicting life expectancy (continous variable) by training a linear regression using several health factors (mortality factors, socioeconomical factors, etc.)\n",
    "\n",
    "### 2. Main Steps We Will Follow\n",
    "\n",
    "* Import the algorithm of interest from sklearn.\n",
    "* Split the dataset into a training set and test set.\n",
    "* Initialize the model\n",
    "* Fit the model on Train data.\n",
    "* Predict the target on Test Data\n",
    "* Evaluate the model on Test Data."
   ]
  },
  {
   "cell_type": "markdown",
   "id": "48596e09",
   "metadata": {},
   "source": [
    "## Setting Up Our Environment"
   ]
  },
  {
   "cell_type": "code",
   "execution_count": 1,
   "id": "a40cc072",
   "metadata": {},
   "outputs": [],
   "source": [
    "# Global Imports\n",
    "import numpy as np   \n",
    "import pandas as pd\n",
    "import matplotlib.pyplot as plt   # plotting\n",
    "from sklearn.model_selection import train_test_split  # ML data splits\n",
    "from sklearn.preprocessing import MinMaxScaler # ML preprocessing\n",
    "from sklearn.model_selection import GridSearchCV\n",
    "from sklearn.model_selection import StratifiedKFold\n",
    "\n",
    "# Import model\n",
    "from sklearn.linear_model import LinearRegression\n",
    "from sklearn.neighbors import KNeighborsRegressor\n",
    "from sklearn.tree import DecisionTreeRegressor\n",
    "\n",
    "# Import metrics\n",
    "from sklearn.metrics import mean_absolute_error, mean_squared_error, r2_score"
   ]
  },
  {
   "cell_type": "markdown",
   "id": "22394a13",
   "metadata": {},
   "source": [
    "## The data set"
   ]
  },
  {
   "cell_type": "code",
   "execution_count": 2,
   "id": "749bcf19",
   "metadata": {},
   "outputs": [
    {
     "data": {
      "text/html": [
       "<div>\n",
       "<style scoped>\n",
       "    .dataframe tbody tr th:only-of-type {\n",
       "        vertical-align: middle;\n",
       "    }\n",
       "\n",
       "    .dataframe tbody tr th {\n",
       "        vertical-align: top;\n",
       "    }\n",
       "\n",
       "    .dataframe thead th {\n",
       "        text-align: right;\n",
       "    }\n",
       "</style>\n",
       "<table border=\"1\" class=\"dataframe\">\n",
       "  <thead>\n",
       "    <tr style=\"text-align: right;\">\n",
       "      <th></th>\n",
       "      <th>Year</th>\n",
       "      <th>Life expectancy</th>\n",
       "      <th>Adult Mortality</th>\n",
       "      <th>infant deaths</th>\n",
       "      <th>Alcohol</th>\n",
       "      <th>percentage expenditure</th>\n",
       "      <th>Hepatitis B</th>\n",
       "      <th>Measles</th>\n",
       "      <th>BMI</th>\n",
       "      <th>under-five deaths</th>\n",
       "      <th>Polio</th>\n",
       "      <th>Total expenditure</th>\n",
       "      <th>Diphtheria</th>\n",
       "      <th>HIV/AIDS</th>\n",
       "      <th>GDP</th>\n",
       "      <th>Population</th>\n",
       "      <th>thinness  1-19 years</th>\n",
       "      <th>thinness 5-9 years</th>\n",
       "      <th>Income composition of resources</th>\n",
       "      <th>Schooling</th>\n",
       "    </tr>\n",
       "  </thead>\n",
       "  <tbody>\n",
       "    <tr>\n",
       "      <th>count</th>\n",
       "      <td>2938.000000</td>\n",
       "      <td>2928.000000</td>\n",
       "      <td>2928.000000</td>\n",
       "      <td>2938.000000</td>\n",
       "      <td>2744.000000</td>\n",
       "      <td>2938.000000</td>\n",
       "      <td>2385.000000</td>\n",
       "      <td>2938.000000</td>\n",
       "      <td>2904.000000</td>\n",
       "      <td>2938.000000</td>\n",
       "      <td>2919.000000</td>\n",
       "      <td>2712.00000</td>\n",
       "      <td>2919.000000</td>\n",
       "      <td>2938.000000</td>\n",
       "      <td>2490.000000</td>\n",
       "      <td>2.286000e+03</td>\n",
       "      <td>2904.000000</td>\n",
       "      <td>2904.000000</td>\n",
       "      <td>2771.000000</td>\n",
       "      <td>2775.000000</td>\n",
       "    </tr>\n",
       "    <tr>\n",
       "      <th>mean</th>\n",
       "      <td>2007.518720</td>\n",
       "      <td>69.224932</td>\n",
       "      <td>164.796448</td>\n",
       "      <td>30.303948</td>\n",
       "      <td>4.602861</td>\n",
       "      <td>738.251295</td>\n",
       "      <td>80.940461</td>\n",
       "      <td>2419.592240</td>\n",
       "      <td>38.321247</td>\n",
       "      <td>42.035739</td>\n",
       "      <td>82.550188</td>\n",
       "      <td>5.93819</td>\n",
       "      <td>82.324084</td>\n",
       "      <td>1.742103</td>\n",
       "      <td>7483.158469</td>\n",
       "      <td>1.275338e+07</td>\n",
       "      <td>4.839704</td>\n",
       "      <td>4.870317</td>\n",
       "      <td>0.627551</td>\n",
       "      <td>11.992793</td>\n",
       "    </tr>\n",
       "    <tr>\n",
       "      <th>std</th>\n",
       "      <td>4.613841</td>\n",
       "      <td>9.523867</td>\n",
       "      <td>124.292079</td>\n",
       "      <td>117.926501</td>\n",
       "      <td>4.052413</td>\n",
       "      <td>1987.914858</td>\n",
       "      <td>25.070016</td>\n",
       "      <td>11467.272489</td>\n",
       "      <td>20.044034</td>\n",
       "      <td>160.445548</td>\n",
       "      <td>23.428046</td>\n",
       "      <td>2.49832</td>\n",
       "      <td>23.716912</td>\n",
       "      <td>5.077785</td>\n",
       "      <td>14270.169342</td>\n",
       "      <td>6.101210e+07</td>\n",
       "      <td>4.420195</td>\n",
       "      <td>4.508882</td>\n",
       "      <td>0.210904</td>\n",
       "      <td>3.358920</td>\n",
       "    </tr>\n",
       "    <tr>\n",
       "      <th>min</th>\n",
       "      <td>2000.000000</td>\n",
       "      <td>36.300000</td>\n",
       "      <td>1.000000</td>\n",
       "      <td>0.000000</td>\n",
       "      <td>0.010000</td>\n",
       "      <td>0.000000</td>\n",
       "      <td>1.000000</td>\n",
       "      <td>0.000000</td>\n",
       "      <td>1.000000</td>\n",
       "      <td>0.000000</td>\n",
       "      <td>3.000000</td>\n",
       "      <td>0.37000</td>\n",
       "      <td>2.000000</td>\n",
       "      <td>0.100000</td>\n",
       "      <td>1.681350</td>\n",
       "      <td>3.400000e+01</td>\n",
       "      <td>0.100000</td>\n",
       "      <td>0.100000</td>\n",
       "      <td>0.000000</td>\n",
       "      <td>0.000000</td>\n",
       "    </tr>\n",
       "    <tr>\n",
       "      <th>25%</th>\n",
       "      <td>2004.000000</td>\n",
       "      <td>63.100000</td>\n",
       "      <td>74.000000</td>\n",
       "      <td>0.000000</td>\n",
       "      <td>0.877500</td>\n",
       "      <td>4.685343</td>\n",
       "      <td>77.000000</td>\n",
       "      <td>0.000000</td>\n",
       "      <td>19.300000</td>\n",
       "      <td>0.000000</td>\n",
       "      <td>78.000000</td>\n",
       "      <td>4.26000</td>\n",
       "      <td>78.000000</td>\n",
       "      <td>0.100000</td>\n",
       "      <td>463.935626</td>\n",
       "      <td>1.957932e+05</td>\n",
       "      <td>1.600000</td>\n",
       "      <td>1.500000</td>\n",
       "      <td>0.493000</td>\n",
       "      <td>10.100000</td>\n",
       "    </tr>\n",
       "    <tr>\n",
       "      <th>50%</th>\n",
       "      <td>2008.000000</td>\n",
       "      <td>72.100000</td>\n",
       "      <td>144.000000</td>\n",
       "      <td>3.000000</td>\n",
       "      <td>3.755000</td>\n",
       "      <td>64.912906</td>\n",
       "      <td>92.000000</td>\n",
       "      <td>17.000000</td>\n",
       "      <td>43.500000</td>\n",
       "      <td>4.000000</td>\n",
       "      <td>93.000000</td>\n",
       "      <td>5.75500</td>\n",
       "      <td>93.000000</td>\n",
       "      <td>0.100000</td>\n",
       "      <td>1766.947595</td>\n",
       "      <td>1.386542e+06</td>\n",
       "      <td>3.300000</td>\n",
       "      <td>3.300000</td>\n",
       "      <td>0.677000</td>\n",
       "      <td>12.300000</td>\n",
       "    </tr>\n",
       "    <tr>\n",
       "      <th>75%</th>\n",
       "      <td>2012.000000</td>\n",
       "      <td>75.700000</td>\n",
       "      <td>228.000000</td>\n",
       "      <td>22.000000</td>\n",
       "      <td>7.702500</td>\n",
       "      <td>441.534144</td>\n",
       "      <td>97.000000</td>\n",
       "      <td>360.250000</td>\n",
       "      <td>56.200000</td>\n",
       "      <td>28.000000</td>\n",
       "      <td>97.000000</td>\n",
       "      <td>7.49250</td>\n",
       "      <td>97.000000</td>\n",
       "      <td>0.800000</td>\n",
       "      <td>5910.806335</td>\n",
       "      <td>7.420359e+06</td>\n",
       "      <td>7.200000</td>\n",
       "      <td>7.200000</td>\n",
       "      <td>0.779000</td>\n",
       "      <td>14.300000</td>\n",
       "    </tr>\n",
       "    <tr>\n",
       "      <th>max</th>\n",
       "      <td>2015.000000</td>\n",
       "      <td>89.000000</td>\n",
       "      <td>723.000000</td>\n",
       "      <td>1800.000000</td>\n",
       "      <td>17.870000</td>\n",
       "      <td>19479.911610</td>\n",
       "      <td>99.000000</td>\n",
       "      <td>212183.000000</td>\n",
       "      <td>87.300000</td>\n",
       "      <td>2500.000000</td>\n",
       "      <td>99.000000</td>\n",
       "      <td>17.60000</td>\n",
       "      <td>99.000000</td>\n",
       "      <td>50.600000</td>\n",
       "      <td>119172.741800</td>\n",
       "      <td>1.293859e+09</td>\n",
       "      <td>27.700000</td>\n",
       "      <td>28.600000</td>\n",
       "      <td>0.948000</td>\n",
       "      <td>20.700000</td>\n",
       "    </tr>\n",
       "  </tbody>\n",
       "</table>\n",
       "</div>"
      ],
      "text/plain": [
       "              Year  Life expectancy   Adult Mortality  infant deaths  \\\n",
       "count  2938.000000       2928.000000      2928.000000    2938.000000   \n",
       "mean   2007.518720         69.224932       164.796448      30.303948   \n",
       "std       4.613841          9.523867       124.292079     117.926501   \n",
       "min    2000.000000         36.300000         1.000000       0.000000   \n",
       "25%    2004.000000         63.100000        74.000000       0.000000   \n",
       "50%    2008.000000         72.100000       144.000000       3.000000   \n",
       "75%    2012.000000         75.700000       228.000000      22.000000   \n",
       "max    2015.000000         89.000000       723.000000    1800.000000   \n",
       "\n",
       "           Alcohol  percentage expenditure  Hepatitis B       Measles   \\\n",
       "count  2744.000000             2938.000000  2385.000000    2938.000000   \n",
       "mean      4.602861              738.251295    80.940461    2419.592240   \n",
       "std       4.052413             1987.914858    25.070016   11467.272489   \n",
       "min       0.010000                0.000000     1.000000       0.000000   \n",
       "25%       0.877500                4.685343    77.000000       0.000000   \n",
       "50%       3.755000               64.912906    92.000000      17.000000   \n",
       "75%       7.702500              441.534144    97.000000     360.250000   \n",
       "max      17.870000            19479.911610    99.000000  212183.000000   \n",
       "\n",
       "              BMI   under-five deaths         Polio  Total expenditure  \\\n",
       "count  2904.000000         2938.000000  2919.000000         2712.00000   \n",
       "mean     38.321247           42.035739    82.550188            5.93819   \n",
       "std      20.044034          160.445548    23.428046            2.49832   \n",
       "min       1.000000            0.000000     3.000000            0.37000   \n",
       "25%      19.300000            0.000000    78.000000            4.26000   \n",
       "50%      43.500000            4.000000    93.000000            5.75500   \n",
       "75%      56.200000           28.000000    97.000000            7.49250   \n",
       "max      87.300000         2500.000000    99.000000           17.60000   \n",
       "\n",
       "       Diphtheria      HIV/AIDS            GDP    Population  \\\n",
       "count  2919.000000  2938.000000    2490.000000  2.286000e+03   \n",
       "mean     82.324084     1.742103    7483.158469  1.275338e+07   \n",
       "std      23.716912     5.077785   14270.169342  6.101210e+07   \n",
       "min       2.000000     0.100000       1.681350  3.400000e+01   \n",
       "25%      78.000000     0.100000     463.935626  1.957932e+05   \n",
       "50%      93.000000     0.100000    1766.947595  1.386542e+06   \n",
       "75%      97.000000     0.800000    5910.806335  7.420359e+06   \n",
       "max      99.000000    50.600000  119172.741800  1.293859e+09   \n",
       "\n",
       "        thinness  1-19 years   thinness 5-9 years  \\\n",
       "count            2904.000000          2904.000000   \n",
       "mean                4.839704             4.870317   \n",
       "std                 4.420195             4.508882   \n",
       "min                 0.100000             0.100000   \n",
       "25%                 1.600000             1.500000   \n",
       "50%                 3.300000             3.300000   \n",
       "75%                 7.200000             7.200000   \n",
       "max                27.700000            28.600000   \n",
       "\n",
       "       Income composition of resources    Schooling  \n",
       "count                      2771.000000  2775.000000  \n",
       "mean                          0.627551    11.992793  \n",
       "std                           0.210904     3.358920  \n",
       "min                           0.000000     0.000000  \n",
       "25%                           0.493000    10.100000  \n",
       "50%                           0.677000    12.300000  \n",
       "75%                           0.779000    14.300000  \n",
       "max                           0.948000    20.700000  "
      ]
     },
     "execution_count": 2,
     "metadata": {},
     "output_type": "execute_result"
    }
   ],
   "source": [
    "#Import dataset\n",
    "df = pd.read_csv('C:/Users/kimng/Desktop/EDPY506/Code Presentation/Life Expectancy Data.csv')\n",
    "df.describe()"
   ]
  },
  {
   "cell_type": "code",
   "execution_count": 3,
   "id": "f3b8f29a",
   "metadata": {},
   "outputs": [
    {
     "data": {
      "text/plain": [
       "Country                              0\n",
       "Year                                 0\n",
       "Status                               0\n",
       "Life expectancy                     10\n",
       "Adult Mortality                     10\n",
       "infant deaths                        0\n",
       "Alcohol                            194\n",
       "percentage expenditure               0\n",
       "Hepatitis B                        553\n",
       "Measles                              0\n",
       " BMI                                34\n",
       "under-five deaths                    0\n",
       "Polio                               19\n",
       "Total expenditure                  226\n",
       "Diphtheria                          19\n",
       " HIV/AIDS                            0\n",
       "GDP                                448\n",
       "Population                         652\n",
       " thinness  1-19 years               34\n",
       " thinness 5-9 years                 34\n",
       "Income composition of resources    167\n",
       "Schooling                          163\n",
       "dtype: int64"
      ]
     },
     "execution_count": 3,
     "metadata": {},
     "output_type": "execute_result"
    }
   ],
   "source": [
    "#check if there were any missing data\n",
    "df.isnull().sum()"
   ]
  },
  {
   "cell_type": "code",
   "execution_count": 4,
   "id": "5792068c",
   "metadata": {},
   "outputs": [
    {
     "data": {
      "text/plain": [
       "(1649, 22)"
      ]
     },
     "execution_count": 4,
     "metadata": {},
     "output_type": "execute_result"
    }
   ],
   "source": [
    "# drop missing data list-wise\n",
    "df.dropna(inplace=True)\n",
    "\n",
    "#reset index -- this is to replace old data index with index based on current data.\n",
    "df = df.reset_index(drop=True)\n",
    "\n",
    "# get new data dimension\n",
    "df.shape "
   ]
  },
  {
   "cell_type": "markdown",
   "id": "16d5966f",
   "metadata": {},
   "source": [
    "After missing data deletion, the final dataset has 1649 instances and 22 columns. For simplicity, we will predict life expectancy from all columns except for 'Country' (number of predictors = 20). 'Status' will be recoded into binary value (0 = developing; 1= developed)."
   ]
  },
  {
   "cell_type": "code",
   "execution_count": 5,
   "id": "21888c82",
   "metadata": {},
   "outputs": [],
   "source": [
    "df.loc[df['Status'] == \"Developing\", 'Status'] = 0\n",
    "df.loc[df['Status'] == \"Developed\", 'Status'] = 1\n",
    "df['Status'] = df['Status'].apply(np.int64)"
   ]
  },
  {
   "cell_type": "markdown",
   "id": "13f44928",
   "metadata": {},
   "source": [
    "## Split the dataset into a training set and test set.\n",
    "\n",
    "Note that the splits will be stratified based on 'Status' as the numbers of developed and developing countries are imbalance"
   ]
  },
  {
   "cell_type": "code",
   "execution_count": 6,
   "id": "2466c1f6",
   "metadata": {},
   "outputs": [
    {
     "data": {
      "text/plain": [
       "Index(['Country', 'Year', 'Status', 'Life expectancy ', 'Adult Mortality',\n",
       "       'infant deaths', 'Alcohol', 'percentage expenditure', 'Hepatitis B',\n",
       "       'Measles ', ' BMI ', 'under-five deaths ', 'Polio', 'Total expenditure',\n",
       "       'Diphtheria ', ' HIV/AIDS', 'GDP', 'Population',\n",
       "       ' thinness  1-19 years', ' thinness 5-9 years',\n",
       "       'Income composition of resources', 'Schooling'],\n",
       "      dtype='object')"
      ]
     },
     "execution_count": 6,
     "metadata": {},
     "output_type": "execute_result"
    }
   ],
   "source": [
    "df.columns # get list of column names"
   ]
  },
  {
   "cell_type": "code",
   "execution_count": 7,
   "id": "36444f83",
   "metadata": {},
   "outputs": [],
   "source": [
    "# Separate the features (X) and target (y)\n",
    "\n",
    "feature_names = ['Year', 'Status', 'Adult Mortality',\n",
    "       'infant deaths', 'Alcohol', 'percentage expenditure', 'Hepatitis B',\n",
    "       'Measles ', ' BMI ', 'under-five deaths ', 'Polio', 'Total expenditure',\n",
    "       'Diphtheria ', ' HIV/AIDS', 'GDP', 'Population',\n",
    "       ' thinness  1-19 years', ' thinness 5-9 years',\n",
    "       'Income composition of resources', 'Schooling']\n",
    "\n",
    "target = ['Life expectancy ']"
   ]
  },
  {
   "cell_type": "code",
   "execution_count": 8,
   "id": "cb672230",
   "metadata": {},
   "outputs": [],
   "source": [
    "# Split into training, test sets (80%, 20%)\n",
    "stratifyCategory = ['Status']\n",
    "from sklearn.model_selection import StratifiedShuffleSplit\n",
    "split = StratifiedShuffleSplit(test_size = .20, random_state=42)\n",
    "\n",
    "for train_index, test_index in split.split(df, df[stratifyCategory]):\n",
    "    train_set = df.loc[train_index]\n",
    "    test_set = df.loc[test_index]\n",
    "    \n",
    "train_set = pd.DataFrame(train_set)\n",
    "test_set = pd.DataFrame(test_set)"
   ]
  },
  {
   "cell_type": "code",
   "execution_count": 9,
   "id": "ea742459",
   "metadata": {},
   "outputs": [],
   "source": [
    "X_train = train_set[feature_names]\n",
    "y_train = train_set[target]\n",
    "\n",
    "X_test = test_set[feature_names]\n",
    "y_test = test_set[target]"
   ]
  },
  {
   "cell_type": "code",
   "execution_count": 10,
   "id": "af29dae2",
   "metadata": {},
   "outputs": [
    {
     "name": "stdout",
     "output_type": "stream",
     "text": [
      "(1319, 22)\n",
      "(330, 22)\n"
     ]
    }
   ],
   "source": [
    "print(train_set.shape)\n",
    "print(test_set.shape)"
   ]
  },
  {
   "cell_type": "markdown",
   "id": "52ace261",
   "metadata": {},
   "source": [
    "## Initialize and fit the model on training data"
   ]
  },
  {
   "cell_type": "code",
   "execution_count": 11,
   "id": "868217ad",
   "metadata": {},
   "outputs": [],
   "source": [
    "#Initialize\n",
    "lm = LinearRegression()\n",
    "\n",
    "#Fit on training set\n",
    "model = lm.fit(X_train, y_train)"
   ]
  },
  {
   "cell_type": "code",
   "execution_count": 12,
   "id": "e55dd5db",
   "metadata": {},
   "outputs": [],
   "source": [
    "#Predict y_train\n",
    "y_pred_train = model.predict(X_train)"
   ]
  },
  {
   "cell_type": "markdown",
   "id": "8aaa05c4",
   "metadata": {},
   "source": [
    "## Predict the target on Test Data"
   ]
  },
  {
   "cell_type": "code",
   "execution_count": 13,
   "id": "0b6c6645",
   "metadata": {},
   "outputs": [],
   "source": [
    "#Predict y_test\n",
    "y_pred = model.predict(X_test)"
   ]
  },
  {
   "cell_type": "code",
   "execution_count": 14,
   "id": "0c63d641",
   "metadata": {},
   "outputs": [
    {
     "data": {
      "image/png": "[encoded data removed]",
      "text/plain": [
       "<Figure size 432x288 with 1 Axes>"
      ]
     },
     "metadata": {
      "needs_background": "light"
     },
     "output_type": "display_data"
    }
   ],
   "source": [
    "plt.scatter(y_test, y_pred)\n",
    "plt.plot([40, 90], [40, 90], '--k') #identity line; predicted = true value\n",
    "plt.title('Predicted vs True Life Expectancy in Test Set')\n",
    "plt.xlabel('True Value')\n",
    "plt.ylabel('Predicted Value')\n",
    "plt.show()"
   ]
  },
  {
   "cell_type": "markdown",
   "id": "63ae4ce0",
   "metadata": {},
   "source": [
    "## Evaluate the model on Test Data."
   ]
  },
  {
   "cell_type": "code",
   "execution_count": 15,
   "id": "a640f5e8",
   "metadata": {},
   "outputs": [
    {
     "name": "stdout",
     "output_type": "stream",
     "text": [
      "Mean Absolute Error: 2.574365860440424\n",
      "Mean Squared Error: 11.175236079207012\n",
      "Root Mean Squared Error: 3.342938240411721\n",
      "Coefficient of Determination (R2): 0.8431376684247751\n"
     ]
    }
   ],
   "source": [
    "MAE_test = mean_absolute_error(y_test, y_pred)\n",
    "print('Mean Absolute Error:', MAE_test)\n",
    "\n",
    "MSE_test = mean_squared_error(y_test, y_pred)\n",
    "print('Mean Squared Error:', MSE_test)\n",
    "\n",
    "RMSE_test = np.sqrt(mean_squared_error(y_test, y_pred))\n",
    "print('Root Mean Squared Error:', RMSE_test)\n",
    "\n",
    "R2_test = r2_score(y_test, y_pred)\n",
    "print('Coefficient of Determination (R2):', R2_test)"
   ]
  },
  {
   "cell_type": "markdown",
   "id": "45615a54",
   "metadata": {},
   "source": [
    "## Compare performance on training vs test sets\n",
    "\n",
    "To examine if the model over- or under- fit the data"
   ]
  },
  {
   "cell_type": "code",
   "execution_count": 16,
   "id": "5bca6302",
   "metadata": {},
   "outputs": [
    {
     "data": {
      "text/html": [
       "<div>\n",
       "<style scoped>\n",
       "    .dataframe tbody tr th:only-of-type {\n",
       "        vertical-align: middle;\n",
       "    }\n",
       "\n",
       "    .dataframe tbody tr th {\n",
       "        vertical-align: top;\n",
       "    }\n",
       "\n",
       "    .dataframe thead th {\n",
       "        text-align: right;\n",
       "    }\n",
       "</style>\n",
       "<table border=\"1\" class=\"dataframe\">\n",
       "  <thead>\n",
       "    <tr style=\"text-align: right;\">\n",
       "      <th></th>\n",
       "      <th>Dataset</th>\n",
       "      <th>MAE</th>\n",
       "      <th>MSE</th>\n",
       "      <th>RMSE</th>\n",
       "      <th>R2</th>\n",
       "    </tr>\n",
       "  </thead>\n",
       "  <tbody>\n",
       "    <tr>\n",
       "      <th>0</th>\n",
       "      <td>Training</td>\n",
       "      <td>2.745394</td>\n",
       "      <td>12.840809</td>\n",
       "      <td>3.583407</td>\n",
       "      <td>0.837169</td>\n",
       "    </tr>\n",
       "    <tr>\n",
       "      <th>1</th>\n",
       "      <td>Test</td>\n",
       "      <td>2.574366</td>\n",
       "      <td>11.175236</td>\n",
       "      <td>3.342938</td>\n",
       "      <td>0.843138</td>\n",
       "    </tr>\n",
       "  </tbody>\n",
       "</table>\n",
       "</div>"
      ],
      "text/plain": [
       "    Dataset       MAE        MSE      RMSE        R2\n",
       "0  Training  2.745394  12.840809  3.583407  0.837169\n",
       "1      Test  2.574366  11.175236  3.342938  0.843138"
      ]
     },
     "execution_count": 16,
     "metadata": {},
     "output_type": "execute_result"
    }
   ],
   "source": [
    "MAE_train = mean_absolute_error(y_train, y_pred_train)\n",
    "MSE_train = mean_squared_error(y_train, y_pred_train)\n",
    "RMSE_train = np.sqrt(mean_squared_error(y_train, y_pred_train))\n",
    "R2_train = r2_score(y_train, y_pred_train)\n",
    "\n",
    "metric = {'Dataset': ['Training', 'Test'], \n",
    "          'MAE': [MAE_train, MAE_test],\n",
    "          'MSE': [MSE_train, MSE_test],\n",
    "          'RMSE': [RMSE_train, RMSE_test],\n",
    "          'R2': [R2_train, R2_test]}\n",
    "metric = pd.DataFrame(metric)\n",
    "\n",
    "metric"
   ]
  },
  {
   "cell_type": "markdown",
   "id": "b06c7ba3",
   "metadata": {},
   "source": [
    "***Model seems to perform similarly on both the training and test sets - All evaluation metrics results were similar between training and test sets.***"
   ]
  },
  {
   "cell_type": "markdown",
   "id": "920c072d",
   "metadata": {},
   "source": [
    "### Actual vs predicted plot of both training and test sets"
   ]
  },
  {
   "cell_type": "code",
   "execution_count": 17,
   "id": "f677daed",
   "metadata": {},
   "outputs": [
    {
     "data": {
      "image/png": "[encoded data removed]",
      "text/plain": [
       "<Figure size 864x864 with 1 Axes>"
      ]
     },
     "metadata": {
      "needs_background": "light"
     },
     "output_type": "display_data"
    }
   ],
   "source": [
    "plt.figure(figsize=(12, 12))\n",
    "plt.scatter(y_train, y_pred_train, marker = \"^\", color = 'cornflowerblue', label='Training set prediction')\n",
    "plt.scatter(y_test, y_pred, color='lightblue', label='Test set prediction')\n",
    "plt.plot([40, 90], [40, 90], '--k') #identity line; predicted = true value\n",
    "plt.title('Predicted vs True Life Expectancy')\n",
    "plt.xlabel('True Value')\n",
    "plt.ylabel('Predicted Value')\n",
    "plt.legend()\n",
    "plt.show()"
   ]
  },
  {
   "cell_type": "markdown",
   "id": "da462ac8",
   "metadata": {},
   "source": [
    "## Looking at Linear Regression slope coefficients\n",
    "\n",
    "The MAE, MSE, and RMSE were slightly higher in training set. In case you have concerns on overfitting, we can check feature coefficients to see if any features can be removed to reduce model complexity."
   ]
  },
  {
   "cell_type": "code",
   "execution_count": 18,
   "id": "44c2a0b1",
   "metadata": {},
   "outputs": [
    {
     "data": {
      "image/png": "[encoded data removed]",
      "text/plain": [
       "<Figure size 648x504 with 1 Axes>"
      ]
     },
     "metadata": {
      "needs_background": "light"
     },
     "output_type": "display_data"
    }
   ],
   "source": [
    "coefs = pd.DataFrame(\n",
    "   model.coef_.reshape(-1),\n",
    "   columns=['Coefficients'], index=X_train.columns\n",
    ")\n",
    "#Sort coefficient\n",
    "coefs = coefs.sort_values(by=['Coefficients'])\n",
    "\n",
    "coefs.plot(kind='barh', figsize=(9, 7), colormap = 'Set2')\n",
    "plt.title('Linear model coefficients')\n",
    "plt.axvline(x=0, color='.5')\n",
    "plt.subplots_adjust(left=.3)\n",
    "plt.show()"
   ]
  },
  {
   "cell_type": "markdown",
   "id": "512094ee",
   "metadata": {},
   "source": [
    "As seen in the plot above, there are a lot of features that do not seem to contribute much to the life expectancy contributions. To reduce model complexity, we can use methods like LASSO (Least Absolute Shrinkage Selector Operator) regression. As discussed in the lecture last week, this method will make slope coefficients of the less important features into zero."
   ]
  }
 ],
 "metadata": {
  "kernelspec": {
   "display_name": "Python 3 (ipykernel)",
   "language": "python",
   "name": "python3"
  },
  "language_info": {
   "codemirror_mode": {
    "name": "ipython",
    "version": 3
   },
   "file_extension": ".py",
   "mimetype": "text/x-python",
   "name": "python",
   "nbconvert_exporter": "python",
   "pygments_lexer": "ipython3",
   "version": "3.8.8"
  }
 },
 "nbformat": 4,
 "nbformat_minor": 5
}
